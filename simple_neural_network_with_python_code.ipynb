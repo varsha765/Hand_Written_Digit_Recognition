{
 "cells": [
  {
   "cell_type": "code",
   "execution_count": 110,
   "metadata": {},
   "outputs": [],
   "source": [
    "#import libraries\n",
    "import tensorflow as tf\n",
    "from tensorflow import keras\n",
    "\n",
    "import numpy as np\n",
    "import pandas as pd \n",
    "import matplotlib.pyplot as plt\n"
   ]
  },
  {
   "cell_type": "code",
   "execution_count": 111,
   "metadata": {},
   "outputs": [
    {
     "data": {
      "image/png": "[encoded data removed]",
      "text/plain": [
       "<Figure size 432x288 with 2 Axes>"
      ]
     },
     "metadata": {
      "needs_background": "light"
     },
     "output_type": "display_data"
    }
   ],
   "source": [
    "#loading the data\n",
    "df=pd.read_csv('ex.csv', header=None)\n",
    "train_set=df.to_numpy()\n",
    "df=pd.read_csv('ex1.csv',header=None)\n",
    "train_labels=df.to_numpy()\n",
    "l=np.where(train_labels==10)\n",
    "train_labels[l]=0\n",
    "#visualizing a single dataset image\n",
    "x=train_set[0,:].reshape(20,20)\n",
    "plt.figure()\n",
    "plt.imshow(x)\n",
    "plt.colorbar()\n",
    "plt.show()\n",
    "\n",
    "\n",
    "\n"
   ]
  },
  {
   "cell_type": "code",
   "execution_count": null,
   "metadata": {},
   "outputs": [],
   "source": []
  },
  {
   "cell_type": "code",
   "execution_count": 112,
   "metadata": {},
   "outputs": [],
   "source": [
    "#building the model\n",
    "model=keras.Sequential([\n",
    "    keras.layers.Dense(400,activation='relu'),   #layer_1\n",
    "    keras.layers.Dense(25, activation='relu') ,  #layer_2\n",
    "    keras.layers.Dense(10, activation='softmax') #layer_3\n",
    "])"
   ]
  },
  {
   "cell_type": "code",
   "execution_count": 113,
   "metadata": {},
   "outputs": [],
   "source": [
    "#compiling the model\n",
    "model.compile(optimizer='adam', loss= 'sparse_categorical_crossentropy', metrics=['accuracy'])"
   ]
  },
  {
   "cell_type": "code",
   "execution_count": 125,
   "metadata": {},
   "outputs": [
    {
     "name": "stdout",
     "output_type": "stream",
     "text": [
      "Train on 5000 samples\n",
      "Epoch 1/10\n",
      "5000/5000 [==============================] - 1s 126us/sample - loss: 0.0684 - accuracy: 0.9824\n",
      "Epoch 2/10\n",
      "5000/5000 [==============================] - 1s 121us/sample - loss: 0.0492 - accuracy: 0.9888\n",
      "Epoch 3/10\n",
      "5000/5000 [==============================] - 1s 127us/sample - loss: 0.0373 - accuracy: 0.9920\n",
      "Epoch 4/10\n",
      "5000/5000 [==============================] - 1s 131us/sample - loss: 0.0281 - accuracy: 0.9940\n",
      "Epoch 5/10\n",
      "5000/5000 [==============================] - 1s 124us/sample - loss: 0.0241 - accuracy: 0.9950\n",
      "Epoch 6/10\n",
      "5000/5000 [==============================] - 1s 120us/sample - loss: 0.0180 - accuracy: 0.9972\n",
      "Epoch 7/10\n",
      "5000/5000 [==============================] - 1s 118us/sample - loss: 0.0116 - accuracy: 0.9988\n",
      "Epoch 8/10\n",
      "5000/5000 [==============================] - 1s 121us/sample - loss: 0.0078 - accuracy: 0.9994\n",
      "Epoch 9/10\n",
      "5000/5000 [==============================] - 1s 120us/sample - loss: 0.0058 - accuracy: 1.0000\n",
      "Epoch 10/10\n",
      "5000/5000 [==============================] - 1s 134us/sample - loss: 0.0048 - accuracy: 1.0000\n"
     ]
    },
    {
     "data": {
      "text/plain": [
       "<tensorflow.python.keras.callbacks.History at 0x290b96bc828>"
      ]
     },
     "execution_count": 125,
     "metadata": {},
     "output_type": "execute_result"
    }
   ],
   "source": [
    "#training the model\n",
    "model.fit(train_set, train_labels, epochs=10)   "
   ]
  },
  {
   "cell_type": "code",
   "execution_count": 127,
   "metadata": {},
   "outputs": [],
   "source": [
    "#after training we got an accuracy between 100%\n",
    "#since we do not have a test set for this project, we will evaluate the model on our training set itself by making predictions for random data points"
   ]
  },
  {
   "cell_type": "code",
   "execution_count": 134,
   "metadata": {},
   "outputs": [],
   "source": [
    "predictions= model.predict(train_set)"
   ]
  },
  {
   "cell_type": "code",
   "execution_count": 135,
   "metadata": {},
   "outputs": [
    {
     "name": "stdout",
     "output_type": "stream",
     "text": [
      "Enter the index of data point you want to predict the value for: 976\n"
     ]
    }
   ],
   "source": [
    "num=int(input('Enter the index of data point you want to predict the value for: '))\n",
    "pred=np.argmax(predictions[num])\n",
    "#check if prediction matches with train_labels"
   ]
  },
  {
   "cell_type": "code",
   "execution_count": 136,
   "metadata": {},
   "outputs": [
    {
     "name": "stdout",
     "output_type": "stream",
     "text": [
      "predicted value:  1\n",
      "Expected value:  1\n"
     ]
    }
   ],
   "source": [
    "print('predicted value: ',pred)\n",
    "print('Expected value: ',train_labels[num][0] )"
   ]
  },
  {
   "cell_type": "code",
   "execution_count": null,
   "metadata": {},
   "outputs": [],
   "source": []
  }
 ],
 "metadata": {
  "kernelspec": {
   "display_name": "Python 3",
   "language": "python",
   "name": "python3"
  },
  "language_info": {
   "codemirror_mode": {
    "name": "ipython",
    "version": 3
   },
   "file_extension": ".py",
   "mimetype": "text/x-python",
   "name": "python",
   "nbconvert_exporter": "python",
   "pygments_lexer": "ipython3",
   "version": "3.6.10"
  }
 },
 "nbformat": 4,
 "nbformat_minor": 4
}
